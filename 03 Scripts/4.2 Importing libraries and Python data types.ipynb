{
 "cells": [
  {
   "cell_type": "markdown",
   "id": "2cf31809",
   "metadata": {},
   "source": [
    "#01. Importing Libraries"
   ]
  },
  {
   "cell_type": "code",
   "execution_count": 2,
   "id": "26287576",
   "metadata": {},
   "outputs": [],
   "source": [
    "# Import libraries\n",
    "import pandas as pd\n",
    "import numpy as np\n",
    "import os"
   ]
  },
  {
   "cell_type": "markdown",
   "id": "6609e588",
   "metadata": {},
   "source": [
    "#02. Data Types"
   ]
  },
  {
   "cell_type": "code",
   "execution_count": 28,
   "id": "89a68f77",
   "metadata": {},
   "outputs": [],
   "source": [
    "# addition/subtraction"
   ]
  },
  {
   "cell_type": "code",
   "execution_count": 1,
   "id": "581b84e0",
   "metadata": {},
   "outputs": [],
   "source": [
    "x = 50"
   ]
  },
  {
   "cell_type": "code",
   "execution_count": 16,
   "id": "34fadaf2",
   "metadata": {},
   "outputs": [
    {
     "data": {
      "text/plain": [
       "100"
      ]
     },
     "execution_count": 16,
     "metadata": {},
     "output_type": "execute_result"
    }
   ],
   "source": [
    "x + x"
   ]
  },
  {
   "cell_type": "code",
   "execution_count": 20,
   "id": "bf5159c2",
   "metadata": {},
   "outputs": [],
   "source": [
    "y = 70"
   ]
  },
  {
   "cell_type": "code",
   "execution_count": 22,
   "id": "949b38d9",
   "metadata": {},
   "outputs": [],
   "source": [
    "z = 20"
   ]
  },
  {
   "cell_type": "code",
   "execution_count": 23,
   "id": "540e4d7f",
   "metadata": {},
   "outputs": [
    {
     "data": {
      "text/plain": [
       "100"
      ]
     },
     "execution_count": 23,
     "metadata": {},
     "output_type": "execute_result"
    }
   ],
   "source": [
    "x + y - z"
   ]
  },
  {
   "cell_type": "code",
   "execution_count": 24,
   "id": "b662e954",
   "metadata": {},
   "outputs": [
    {
     "data": {
      "text/plain": [
       "100"
      ]
     },
     "execution_count": 24,
     "metadata": {},
     "output_type": "execute_result"
    }
   ],
   "source": [
    "150 - x"
   ]
  },
  {
   "cell_type": "code",
   "execution_count": 29,
   "id": "c95e1a65",
   "metadata": {},
   "outputs": [],
   "source": [
    "# dividing floats"
   ]
  },
  {
   "cell_type": "code",
   "execution_count": 25,
   "id": "1c473dc9",
   "metadata": {},
   "outputs": [],
   "source": [
    "a = 1.2345"
   ]
  },
  {
   "cell_type": "code",
   "execution_count": 26,
   "id": "13ec06e4",
   "metadata": {},
   "outputs": [],
   "source": [
    "b = 5.4321"
   ]
  },
  {
   "cell_type": "code",
   "execution_count": 27,
   "id": "8d853a57",
   "metadata": {},
   "outputs": [
    {
     "data": {
      "text/plain": [
       "0.22726017562268733"
      ]
     },
     "execution_count": 27,
     "metadata": {},
     "output_type": "execute_result"
    }
   ],
   "source": [
    "a / b"
   ]
  },
  {
   "cell_type": "code",
   "execution_count": 30,
   "id": "a2db05dc",
   "metadata": {},
   "outputs": [],
   "source": [
    "# concatenating strings"
   ]
  },
  {
   "cell_type": "code",
   "execution_count": 32,
   "id": "dfb0c171",
   "metadata": {},
   "outputs": [],
   "source": [
    "j = 'concat'"
   ]
  },
  {
   "cell_type": "code",
   "execution_count": 33,
   "id": "859cc516",
   "metadata": {},
   "outputs": [],
   "source": [
    "i = 'enation'"
   ]
  },
  {
   "cell_type": "code",
   "execution_count": 34,
   "id": "0afa4dcf",
   "metadata": {},
   "outputs": [
    {
     "data": {
      "text/plain": [
       "'concatenation'"
      ]
     },
     "execution_count": 34,
     "metadata": {},
     "output_type": "execute_result"
    }
   ],
   "source": [
    "j + i"
   ]
  },
  {
   "cell_type": "code",
   "execution_count": 35,
   "id": "795c46fe",
   "metadata": {},
   "outputs": [],
   "source": [
    "v = 'Today I learned some basics about Python. '"
   ]
  },
  {
   "cell_type": "code",
   "execution_count": 37,
   "id": "022b099a",
   "metadata": {},
   "outputs": [],
   "source": [
    "w = \"I'm excited to learn more tomorrow!\""
   ]
  },
  {
   "cell_type": "code",
   "execution_count": 38,
   "id": "15ba8162",
   "metadata": {},
   "outputs": [
    {
     "data": {
      "text/plain": [
       "\"Today I learned some basics about Python. I'm excited to learn more tomorrow!\""
      ]
     },
     "execution_count": 38,
     "metadata": {},
     "output_type": "execute_result"
    }
   ],
   "source": [
    "v + w"
   ]
  },
  {
   "cell_type": "code",
   "execution_count": 39,
   "id": "7b9a0764",
   "metadata": {},
   "outputs": [],
   "source": [
    "# make a string appear 100 times"
   ]
  },
  {
   "cell_type": "code",
   "execution_count": 40,
   "id": "d15947bc",
   "metadata": {},
   "outputs": [
    {
     "data": {
      "text/plain": [
       "'Today I learned some basics about Python. Today I learned some basics about Python. Today I learned some basics about Python. Today I learned some basics about Python. Today I learned some basics about Python. Today I learned some basics about Python. Today I learned some basics about Python. Today I learned some basics about Python. Today I learned some basics about Python. Today I learned some basics about Python. Today I learned some basics about Python. Today I learned some basics about Python. Today I learned some basics about Python. Today I learned some basics about Python. Today I learned some basics about Python. Today I learned some basics about Python. Today I learned some basics about Python. Today I learned some basics about Python. Today I learned some basics about Python. Today I learned some basics about Python. Today I learned some basics about Python. Today I learned some basics about Python. Today I learned some basics about Python. Today I learned some basics about Python. Today I learned some basics about Python. Today I learned some basics about Python. Today I learned some basics about Python. Today I learned some basics about Python. Today I learned some basics about Python. Today I learned some basics about Python. Today I learned some basics about Python. Today I learned some basics about Python. Today I learned some basics about Python. Today I learned some basics about Python. Today I learned some basics about Python. Today I learned some basics about Python. Today I learned some basics about Python. Today I learned some basics about Python. Today I learned some basics about Python. Today I learned some basics about Python. Today I learned some basics about Python. Today I learned some basics about Python. Today I learned some basics about Python. Today I learned some basics about Python. Today I learned some basics about Python. Today I learned some basics about Python. Today I learned some basics about Python. Today I learned some basics about Python. Today I learned some basics about Python. Today I learned some basics about Python. Today I learned some basics about Python. Today I learned some basics about Python. Today I learned some basics about Python. Today I learned some basics about Python. Today I learned some basics about Python. Today I learned some basics about Python. Today I learned some basics about Python. Today I learned some basics about Python. Today I learned some basics about Python. Today I learned some basics about Python. Today I learned some basics about Python. Today I learned some basics about Python. Today I learned some basics about Python. Today I learned some basics about Python. Today I learned some basics about Python. Today I learned some basics about Python. Today I learned some basics about Python. Today I learned some basics about Python. Today I learned some basics about Python. Today I learned some basics about Python. Today I learned some basics about Python. Today I learned some basics about Python. Today I learned some basics about Python. Today I learned some basics about Python. Today I learned some basics about Python. Today I learned some basics about Python. Today I learned some basics about Python. Today I learned some basics about Python. Today I learned some basics about Python. Today I learned some basics about Python. Today I learned some basics about Python. Today I learned some basics about Python. Today I learned some basics about Python. Today I learned some basics about Python. Today I learned some basics about Python. Today I learned some basics about Python. Today I learned some basics about Python. Today I learned some basics about Python. Today I learned some basics about Python. Today I learned some basics about Python. Today I learned some basics about Python. Today I learned some basics about Python. Today I learned some basics about Python. Today I learned some basics about Python. Today I learned some basics about Python. Today I learned some basics about Python. Today I learned some basics about Python. Today I learned some basics about Python. Today I learned some basics about Python. Today I learned some basics about Python. '"
      ]
     },
     "execution_count": 40,
     "metadata": {},
     "output_type": "execute_result"
    }
   ],
   "source": [
    "100 * v"
   ]
  },
  {
   "cell_type": "code",
   "execution_count": null,
   "id": "586d8a66",
   "metadata": {},
   "outputs": [],
   "source": []
  }
 ],
 "metadata": {
  "kernelspec": {
   "display_name": "Python 3 (ipykernel)",
   "language": "python",
   "name": "python3"
  },
  "language_info": {
   "codemirror_mode": {
    "name": "ipython",
    "version": 3
   },
   "file_extension": ".py",
   "mimetype": "text/x-python",
   "name": "python",
   "nbconvert_exporter": "python",
   "pygments_lexer": "ipython3",
   "version": "3.11.4"
  }
 },
 "nbformat": 4,
 "nbformat_minor": 5
}
